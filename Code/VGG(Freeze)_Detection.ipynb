{
  "cells": [
    {
      "cell_type": "code",
      "execution_count": 2,
      "metadata": {
        "id": "8857823f"
      },
      "outputs": [],
      "source": [
        "import matplotlib.pyplot as plt\n",
        "import seaborn as sns\n",
        "\n",
        "import keras\n",
        "from keras.models import Sequential\n",
        "from keras.layers import Dense, Conv2D , MaxPool2D , Flatten , Dropout \n",
        "from keras.preprocessing.image import ImageDataGenerator\n",
        "from keras.optimizers import Adam\n",
        "\n",
        "from sklearn.metrics import classification_report,confusion_matrix\n",
        "\n",
        "import tensorflow as tf\n",
        "\n",
        "import os\n",
        "import cv2\n",
        "\n",
        "import numpy as np\n",
        "from sklearn.model_selection import train_test_split\n",
        "from keras.applications.vgg16 import VGG16\n",
        "from keras.models import Model"
      ],
      "id": "8857823f"
    },
    {
      "cell_type": "code",
      "execution_count": 1,
      "metadata": {
        "colab": {
          "base_uri": "https://localhost:8080/"
        },
        "id": "tL79hdkZP61D",
        "outputId": "6f724496-d355-4c4e-f9d6-14d1acc8001c"
      },
      "outputs": [
        {
          "output_type": "stream",
          "name": "stdout",
          "text": [
            "Mounted at /content/drive\n"
          ]
        }
      ],
      "source": [
        "from google.colab import drive\n",
        "drive.mount('/content/drive')"
      ],
      "id": "tL79hdkZP61D"
    },
    {
      "cell_type": "code",
      "execution_count": 3,
      "metadata": {
        "id": "b19a51c8"
      },
      "outputs": [],
      "source": [
        "labels = ['Normal', 'Potholes']\n",
        "img_size = 224\n",
        "def get_data(data_dir):\n",
        "    data = [] \n",
        "    for label in labels: \n",
        "        path = os.path.join(data_dir, label)\n",
        "        class_num = labels.index(label)\n",
        "        for img in os.listdir(path):\n",
        "            try:\n",
        "                img_arr = cv2.imread(os.path.join(path, img))[...,::-1] #convert BGR to RGB format\n",
        "                resized_arr = cv2.resize(img_arr, (img_size, img_size)) # Reshaping images to preferred size\n",
        "                data.append([resized_arr, class_num])\n",
        "            except Exception as e:\n",
        "                print(e)\n",
        "    return np.array(data)"
      ],
      "id": "b19a51c8"
    },
    {
      "cell_type": "code",
      "execution_count": 4,
      "metadata": {
        "colab": {
          "base_uri": "https://localhost:8080/"
        },
        "id": "01eeaa40",
        "outputId": "345a4c21-a6f0-4775-97de-3380b2e79ee1"
      },
      "outputs": [
        {
          "output_type": "stream",
          "name": "stdout",
          "text": [
            "'NoneType' object is not subscriptable\n",
            "'NoneType' object is not subscriptable\n",
            "'NoneType' object is not subscriptable\n",
            "'NoneType' object is not subscriptable\n"
          ]
        },
        {
          "output_type": "stream",
          "name": "stderr",
          "text": [
            "<ipython-input-3-4fc451c4081d>:15: VisibleDeprecationWarning: Creating an ndarray from ragged nested sequences (which is a list-or-tuple of lists-or-tuples-or ndarrays with different lengths or shapes) is deprecated. If you meant to do this, you must specify 'dtype=object' when creating the ndarray.\n",
            "  return np.array(data)\n"
          ]
        }
      ],
      "source": [
        "data = get_data('drive/MyDrive/Dataset')"
      ],
      "id": "01eeaa40"
    },
    {
      "cell_type": "code",
      "source": [
        "data_t = []\n",
        "data_l = []\n",
        "for feature, label in data:\n",
        "  data_t.append(feature)\n",
        "  data_l.append(label)\n",
        "\n",
        "\n",
        "X_new = np.array(data_t)\n",
        "y_new = np.array(data_l)"
      ],
      "metadata": {
        "id": "WiCIfBO81FAu"
      },
      "id": "WiCIfBO81FAu",
      "execution_count": 5,
      "outputs": []
    },
    {
      "cell_type": "code",
      "source": [
        "x_train, x_val, y_train, y_val = train_test_split(X_new, y_new, test_size=0.40)\n",
        "\n",
        "x_train = np.array(x_train) / 255\n",
        "x_val = np.array(x_val) / 255\n",
        "\n",
        "x_train.reshape(-1, img_size, img_size, 1)\n",
        "y_train = np.array(y_train)\n",
        "\n",
        "x_val.reshape(-1, img_size, img_size, 1)\n",
        "y_val = np.array(y_val)"
      ],
      "metadata": {
        "id": "qAvugDIa149N"
      },
      "id": "qAvugDIa149N",
      "execution_count": 6,
      "outputs": []
    },
    {
      "cell_type": "code",
      "execution_count": 7,
      "metadata": {
        "id": "e01b8b58"
      },
      "outputs": [],
      "source": [
        "datagen = ImageDataGenerator(\n",
        "        featurewise_center=False,  # set input mean to 0 over the dataset\n",
        "        samplewise_center=False,  # set each sample mean to 0\n",
        "        featurewise_std_normalization=False,  # divide inputs by std of the dataset\n",
        "        samplewise_std_normalization=False,  # divide each input by its std\n",
        "        zca_whitening=False,  # apply ZCA whitening\n",
        "        rotation_range = 30,  # randomly rotate images in the range (degrees, 0 to 180)\n",
        "        zoom_range = 0.2, # Randomly zoom image \n",
        "        width_shift_range=0.1,  # randomly shift images horizontally (fraction of total width)\n",
        "        height_shift_range=0.1,  # randomly shift images vertically (fraction of total height)\n",
        "        horizontal_flip = True,  # randomly flip images\n",
        "        vertical_flip=False)  # randomly flip images\n",
        "\n",
        "\n",
        "datagen.fit(x_train)"
      ],
      "id": "e01b8b58"
    },
    {
      "cell_type": "code",
      "execution_count": 12,
      "metadata": {
        "id": "4ff6413e",
        "outputId": "df5a5bba-6fa6-4064-ceba-ad9b6db068b6",
        "scrolled": true,
        "colab": {
          "base_uri": "https://localhost:8080/"
        }
      },
      "outputs": [
        {
          "output_type": "stream",
          "name": "stdout",
          "text": [
            "Model: \"model_1\"\n",
            "_________________________________________________________________\n",
            " Layer (type)                Output Shape              Param #   \n",
            "=================================================================\n",
            " input_2 (InputLayer)        [(None, 224, 224, 3)]     0         \n",
            "                                                                 \n",
            " block1_conv1 (Conv2D)       (None, 224, 224, 64)      1792      \n",
            "                                                                 \n",
            " block1_conv2 (Conv2D)       (None, 224, 224, 64)      36928     \n",
            "                                                                 \n",
            " block1_pool (MaxPooling2D)  (None, 112, 112, 64)      0         \n",
            "                                                                 \n",
            " block2_conv1 (Conv2D)       (None, 112, 112, 128)     73856     \n",
            "                                                                 \n",
            " block2_conv2 (Conv2D)       (None, 112, 112, 128)     147584    \n",
            "                                                                 \n",
            " block2_pool (MaxPooling2D)  (None, 56, 56, 128)       0         \n",
            "                                                                 \n",
            " block3_conv1 (Conv2D)       (None, 56, 56, 256)       295168    \n",
            "                                                                 \n",
            " block3_conv2 (Conv2D)       (None, 56, 56, 256)       590080    \n",
            "                                                                 \n",
            " block3_conv3 (Conv2D)       (None, 56, 56, 256)       590080    \n",
            "                                                                 \n",
            " block3_pool (MaxPooling2D)  (None, 28, 28, 256)       0         \n",
            "                                                                 \n",
            " block4_conv1 (Conv2D)       (None, 28, 28, 512)       1180160   \n",
            "                                                                 \n",
            " block4_conv2 (Conv2D)       (None, 28, 28, 512)       2359808   \n",
            "                                                                 \n",
            " block4_conv3 (Conv2D)       (None, 28, 28, 512)       2359808   \n",
            "                                                                 \n",
            " block4_pool (MaxPooling2D)  (None, 14, 14, 512)       0         \n",
            "                                                                 \n",
            " block5_conv1 (Conv2D)       (None, 14, 14, 512)       2359808   \n",
            "                                                                 \n",
            " block5_conv2 (Conv2D)       (None, 14, 14, 512)       2359808   \n",
            "                                                                 \n",
            " block5_conv3 (Conv2D)       (None, 14, 14, 512)       2359808   \n",
            "                                                                 \n",
            " block5_pool (MaxPooling2D)  (None, 7, 7, 512)         0         \n",
            "                                                                 \n",
            " flatten (Flatten)           (None, 25088)             0         \n",
            "                                                                 \n",
            " fc1 (Dense)                 (None, 4096)              102764544 \n",
            "                                                                 \n",
            " fc2 (Dense)                 (None, 4096)              16781312  \n",
            "                                                                 \n",
            " dense_1 (Dense)             (None, 2)                 8194      \n",
            "                                                                 \n",
            "=================================================================\n",
            "Total params: 134,268,738\n",
            "Trainable params: 126,633,474\n",
            "Non-trainable params: 7,635,264\n",
            "_________________________________________________________________\n"
          ]
        }
      ],
      "source": [
        "vggmodel = VGG16()\n",
        "\n",
        "# freeze the first 15 layers of the VGG16 model\n",
        "for layer in (vggmodel.layers)[:15]:\n",
        "    layer.trainable = False\n",
        "\n",
        "# remove the last output layer and add a new output layer\n",
        "X = vggmodel.layers[-2].output\n",
        "predictions = Dense(2, activation=\"softmax\")(X)\n",
        "\n",
        "# define the final model\n",
        "model_final = Model(inputs=vggmodel.input, outputs=predictions)\n",
        "\n",
        "# compile the model\n",
        "opt = Adam(lr=0.0001)\n",
        "model_final.compile(loss=keras.losses.categorical_crossentropy, optimizer=opt, metrics=[\"accuracy\"])\n",
        "\n",
        "# print the model summary\n",
        "model_final.summary()"
      ],
      "id": "4ff6413e"
    },
    {
      "cell_type": "code",
      "execution_count": 13,
      "metadata": {
        "id": "9110e180"
      },
      "outputs": [],
      "source": [
        "opt = Adam(lr=0.000001)\n",
        "model_final.compile(optimizer = opt , loss = tf.keras.losses.SparseCategoricalCrossentropy(from_logits=True) , metrics = ['accuracy'])"
      ],
      "id": "9110e180"
    },
    {
      "cell_type": "code",
      "execution_count": 15,
      "metadata": {
        "id": "658bd971"
      },
      "outputs": [],
      "source": [
        "from keras.callbacks import Callback, EarlyStopping, ReduceLROnPlateau, ModelCheckpoint"
      ],
      "id": "658bd971"
    },
    {
      "cell_type": "code",
      "execution_count": 14,
      "metadata": {
        "id": "05ef2ef5"
      },
      "outputs": [],
      "source": [
        "model_file = 'model/weights.{epoch:02d}-{val_accuracy:.2f}.hdf5'\n",
        "\n",
        "#maximizing val_accuracy, store only the best models  \n",
        "checkpoint = ModelCheckpoint(model_file, monitor='val_accuracy', verbose=1, save_best_only=True, save_weights_only=False, mode='auto', save_freq=\"epoch\")\n",
        "\n",
        "#If after 3 epochs the val_accuracy does not improve just stop \n",
        "early = EarlyStopping(monitor='val_accuracy', min_delta=0, patience=3, verbose=1, mode='auto')"
      ],
      "id": "05ef2ef5"
    },
    {
      "cell_type": "code",
      "execution_count": 16,
      "metadata": {
        "id": "cba4fb0f",
        "outputId": "f5eeeffa-4ba5-4d8c-b2cf-07c13a84e75e",
        "colab": {
          "base_uri": "https://localhost:8080/"
        }
      },
      "outputs": [
        {
          "output_type": "stream",
          "name": "stdout",
          "text": [
            "Epoch 1/500\n"
          ]
        },
        {
          "output_type": "stream",
          "name": "stderr",
          "text": [
            "/usr/local/lib/python3.8/dist-packages/keras/backend.py:5585: UserWarning: \"`sparse_categorical_crossentropy` received `from_logits=True`, but the `output` argument was produced by a Softmax activation and thus does not represent logits. Was this intended?\n",
            "  output, from_logits = _get_logits(\n"
          ]
        },
        {
          "output_type": "stream",
          "name": "stdout",
          "text": [
            "\n",
            "Epoch 1: val_accuracy improved from -inf to 0.96868, saving model to model/weights.01-0.97.hdf5\n",
            "42/42 - 43s - loss: 0.4853 - accuracy: 0.8297 - val_loss: 0.2874 - val_accuracy: 0.9687 - 43s/epoch - 1s/step\n",
            "Epoch 2/500\n",
            "\n",
            "Epoch 2: val_accuracy improved from 0.96868 to 0.98993, saving model to model/weights.02-0.99.hdf5\n",
            "42/42 - 20s - loss: 0.1863 - accuracy: 0.9873 - val_loss: 0.1181 - val_accuracy: 0.9899 - 20s/epoch - 479ms/step\n",
            "Epoch 3/500\n",
            "\n",
            "Epoch 3: val_accuracy improved from 0.98993 to 0.99217, saving model to model/weights.03-0.99.hdf5\n",
            "42/42 - 19s - loss: 0.0817 - accuracy: 0.9940 - val_loss: 0.0592 - val_accuracy: 0.9922 - 19s/epoch - 451ms/step\n",
            "Epoch 4/500\n",
            "\n",
            "Epoch 4: val_accuracy improved from 0.99217 to 0.99664, saving model to model/weights.04-1.00.hdf5\n",
            "42/42 - 19s - loss: 0.0440 - accuracy: 0.9963 - val_loss: 0.0361 - val_accuracy: 0.9966 - 19s/epoch - 444ms/step\n",
            "Epoch 5/500\n",
            "\n",
            "Epoch 5: val_accuracy did not improve from 0.99664\n",
            "42/42 - 10s - loss: 0.0276 - accuracy: 0.9963 - val_loss: 0.0247 - val_accuracy: 0.9966 - 10s/epoch - 244ms/step\n",
            "Epoch 6/500\n",
            "\n",
            "Epoch 6: val_accuracy did not improve from 0.99664\n",
            "42/42 - 12s - loss: 0.0182 - accuracy: 0.9970 - val_loss: 0.0186 - val_accuracy: 0.9966 - 12s/epoch - 284ms/step\n",
            "Epoch 7/500\n",
            "\n",
            "Epoch 7: val_accuracy improved from 0.99664 to 0.99776, saving model to model/weights.07-1.00.hdf5\n",
            "42/42 - 20s - loss: 0.0133 - accuracy: 0.9978 - val_loss: 0.0147 - val_accuracy: 0.9978 - 20s/epoch - 473ms/step\n",
            "Epoch 8/500\n",
            "\n",
            "Epoch 8: val_accuracy did not improve from 0.99776\n",
            "42/42 - 10s - loss: 0.0099 - accuracy: 0.9993 - val_loss: 0.0122 - val_accuracy: 0.9966 - 10s/epoch - 247ms/step\n",
            "Epoch 9/500\n",
            "\n",
            "Epoch 9: val_accuracy improved from 0.99776 to 0.99888, saving model to model/weights.09-1.00.hdf5\n",
            "42/42 - 20s - loss: 0.0075 - accuracy: 1.0000 - val_loss: 0.0102 - val_accuracy: 0.9989 - 20s/epoch - 475ms/step\n",
            "Epoch 10/500\n",
            "\n",
            "Epoch 10: val_accuracy did not improve from 0.99888\n",
            "42/42 - 10s - loss: 0.0058 - accuracy: 1.0000 - val_loss: 0.0092 - val_accuracy: 0.9978 - 10s/epoch - 247ms/step\n",
            "Epoch 11/500\n",
            "\n",
            "Epoch 11: val_accuracy did not improve from 0.99888\n",
            "42/42 - 10s - loss: 0.0047 - accuracy: 1.0000 - val_loss: 0.0082 - val_accuracy: 0.9978 - 10s/epoch - 245ms/step\n",
            "Epoch 12/500\n",
            "\n",
            "Epoch 12: val_accuracy did not improve from 0.99888\n",
            "42/42 - 10s - loss: 0.0038 - accuracy: 1.0000 - val_loss: 0.0075 - val_accuracy: 0.9989 - 10s/epoch - 246ms/step\n",
            "Epoch 12: early stopping\n"
          ]
        }
      ],
      "source": [
        "history = model_final.fit(x_train,y_train,epochs = 500,batch_size = 32, validation_data = (x_val, y_val), verbose = 2,shuffle = True,callbacks = [checkpoint,early])"
      ],
      "id": "cba4fb0f"
    },
    {
      "cell_type": "code",
      "execution_count": 17,
      "metadata": {
        "id": "f41a6804",
        "outputId": "fdd70337-62c7-41c0-dc23-9b2126f5329c",
        "colab": {
          "base_uri": "https://localhost:8080/",
          "height": 435
        }
      },
      "outputs": [
        {
          "output_type": "display_data",
          "data": {
            "text/plain": [
              "<Figure size 1080x1080 with 2 Axes>"
            ],
            "image/png": "[encoded data removed]"
          },
          "metadata": {
            "needs_background": "light"
          }
        }
      ],
      "source": [
        "acc = history.history['accuracy']\n",
        "val_acc = history.history['val_accuracy']\n",
        "loss = history.history['loss']\n",
        "val_loss = history.history['val_loss']\n",
        "\n",
        "epochs_range = range(12)\n",
        "\n",
        "plt.figure(figsize=(15, 15))\n",
        "plt.subplot(2, 2, 1)\n",
        "plt.plot(epochs_range, acc, label='Training Accuracy')\n",
        "plt.plot(epochs_range, val_acc, label='Validation Accuracy')\n",
        "plt.legend(loc='lower right')\n",
        "plt.title('Training and Validation Accuracy')\n",
        "\n",
        "plt.subplot(2, 2, 2)\n",
        "plt.plot(epochs_range, loss, label='Training Loss')\n",
        "plt.plot(epochs_range, val_loss, label='Validation Loss')\n",
        "plt.legend(loc='upper right')\n",
        "plt.title('Training and Validation Loss')\n",
        "plt.show()"
      ],
      "id": "f41a6804"
    },
    {
      "cell_type": "code",
      "execution_count": 18,
      "metadata": {
        "id": "4d53afaf",
        "outputId": "20313d39-6be6-4fe1-9330-0b6f0183920a",
        "colab": {
          "base_uri": "https://localhost:8080/"
        }
      },
      "outputs": [
        {
          "output_type": "stream",
          "name": "stdout",
          "text": [
            "28/28 [==============================] - 3s 120ms/step\n"
          ]
        }
      ],
      "source": [
        "y_pred=model_final.predict(x_val)\n",
        "y_pred=np.argmax(y_pred,axis=1)"
      ],
      "id": "4d53afaf"
    },
    {
      "cell_type": "code",
      "execution_count": 19,
      "metadata": {
        "id": "0cbabe01",
        "outputId": "c01c42a3-d147-4d53-c31b-b6f7335751d6",
        "colab": {
          "base_uri": "https://localhost:8080/"
        }
      },
      "outputs": [
        {
          "output_type": "stream",
          "name": "stdout",
          "text": [
            "              precision    recall  f1-score   support\n",
            "\n",
            "           0       1.00      1.00      1.00       439\n",
            "           1       1.00      1.00      1.00       455\n",
            "\n",
            "    accuracy                           1.00       894\n",
            "   macro avg       1.00      1.00      1.00       894\n",
            "weighted avg       1.00      1.00      1.00       894\n",
            "\n"
          ]
        }
      ],
      "source": [
        "print(classification_report(y_pred,y_val))"
      ],
      "id": "0cbabe01"
    },
    {
      "cell_type": "code",
      "execution_count": 20,
      "metadata": {
        "id": "d18f2719",
        "outputId": "263b83f5-f6bd-4c39-93d5-343d4cfbc556",
        "colab": {
          "base_uri": "https://localhost:8080/"
        }
      },
      "outputs": [
        {
          "output_type": "stream",
          "name": "stdout",
          "text": [
            "[[438   1]\n",
            " [  0 455]]\n"
          ]
        }
      ],
      "source": [
        "print(confusion_matrix(y_pred,y_val))"
      ],
      "id": "d18f2719"
    },
    {
      "cell_type": "code",
      "execution_count": 21,
      "metadata": {
        "id": "38d36957"
      },
      "outputs": [],
      "source": [
        "def performance_measure(y_actual, y_hat):\n",
        "    TP = 0\n",
        "    FP = 0\n",
        "    TN = 0\n",
        "    FN = 0\n",
        "\n",
        "    for i in range(len(y_hat)): \n",
        "        if y_actual[i] == y_hat[i]==1:\n",
        "            TP += 1\n",
        "        if y_hat[i] == 1 and y_actual[i] == 0:\n",
        "            FP += 1\n",
        "        if y_hat[i] == y_actual[i] == 0:\n",
        "            TN +=1\n",
        "        if y_hat[i] == 0 and y_actual[i] == 1:\n",
        "            FN +=1\n",
        "\n",
        "    return(TP, FP, TN, FN)"
      ],
      "id": "38d36957"
    },
    {
      "cell_type": "code",
      "execution_count": 22,
      "metadata": {
        "id": "c607625e"
      },
      "outputs": [],
      "source": [
        "TP, FP, TN, FN = performance_measure(y_val,y_pred)"
      ],
      "id": "c607625e"
    },
    {
      "cell_type": "code",
      "execution_count": 23,
      "metadata": {
        "id": "db337548",
        "outputId": "7ba00bc9-b7f3-4e7d-f8d4-77db10d0596e",
        "colab": {
          "base_uri": "https://localhost:8080/"
        }
      },
      "outputs": [
        {
          "output_type": "stream",
          "name": "stdout",
          "text": [
            "0.9978070175438597 1.0 1.0 0.9977220956719818 0.0 0.0021929824561403508 0.0 0.9988814317673378\n"
          ]
        }
      ],
      "source": [
        "# Sensitivity, hit rate, recall, or true positive rate\n",
        "TPR = TP/(TP+FN)\n",
        "# Specificity or true negative rate\n",
        "TNR = TN/(TN+FP) \n",
        "# Precision or positive predictive value\n",
        "PPV = TP/(TP+FP)\n",
        "# Negative predictive value\n",
        "NPV = TN/(TN+FN)\n",
        "# Fall out or false positive rate\n",
        "FPR = FP/(FP+TN)\n",
        "# False negative rate\n",
        "FNR = FN/(TP+FN)\n",
        "# False discovery rate\n",
        "FDR = FP/(TP+FP)\n",
        "\n",
        "# Overall accuracy\n",
        "ACC = (TP+TN)/(TP+FP+FN+TN)\n",
        "\n",
        "print(TPR,TNR,PPV,NPV,FPR,FNR,FDR,ACC)"
      ],
      "id": "db337548"
    },
    {
      "cell_type": "code",
      "execution_count": 24,
      "metadata": {
        "id": "ef5f3eb2"
      },
      "outputs": [],
      "source": [
        "from sklearn.metrics import roc_curve"
      ],
      "id": "ef5f3eb2"
    },
    {
      "cell_type": "code",
      "execution_count": 25,
      "metadata": {
        "id": "35d00a47"
      },
      "outputs": [],
      "source": [
        "fpr, tpr, thresholds = roc_curve(y_val, y_pred)"
      ],
      "id": "35d00a47"
    },
    {
      "cell_type": "code",
      "execution_count": 26,
      "metadata": {
        "id": "b84b28a0"
      },
      "outputs": [],
      "source": [
        "from sklearn.metrics import auc\n",
        "auc = auc(fpr, tpr)"
      ],
      "id": "b84b28a0"
    },
    {
      "cell_type": "code",
      "execution_count": 27,
      "metadata": {
        "id": "08e6f0c6",
        "outputId": "48a981e5-e0cb-4039-c9bf-d05e532e9ecb",
        "colab": {
          "base_uri": "https://localhost:8080/",
          "height": 295
        }
      },
      "outputs": [
        {
          "output_type": "display_data",
          "data": {
            "text/plain": [
              "<Figure size 432x288 with 1 Axes>"
            ],
            "image/png": "[encoded data removed]"
          },
          "metadata": {
            "needs_background": "light"
          }
        }
      ],
      "source": [
        "plt.figure(1)\n",
        "plt.plot([0, 1], [0, 1], 'k--')\n",
        "plt.plot(fpr, tpr, label='AUC = {:.3f})'.format(auc))\n",
        "plt.xlabel('False positive rate')\n",
        "plt.ylabel('True positive rate')\n",
        "plt.title('ROC curve')\n",
        "plt.legend(loc='best')\n",
        "plt.show()"
      ],
      "id": "08e6f0c6"
    }
  ],
  "metadata": {
    "accelerator": "GPU",
    "colab": {
      "provenance": []
    },
    "gpuClass": "standard",
    "kernelspec": {
      "display_name": "Python 3 (ipykernel)",
      "language": "python",
      "name": "python3"
    },
    "language_info": {
      "codemirror_mode": {
        "name": "ipython",
        "version": 3
      },
      "file_extension": ".py",
      "mimetype": "text/x-python",
      "name": "python",
      "nbconvert_exporter": "python",
      "pygments_lexer": "ipython3",
      "version": "3.8.8"
    }
  },
  "nbformat": 4,
  "nbformat_minor": 5
}