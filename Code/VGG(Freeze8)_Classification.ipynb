{
  "cells": [
    {
      "cell_type": "code",
      "execution_count": 2,
      "metadata": {
        "id": "8857823f"
      },
      "outputs": [],
      "source": [
        "import matplotlib.pyplot as plt\n",
        "import seaborn as sns\n",
        "\n",
        "import keras\n",
        "from keras.models import Sequential\n",
        "from keras.layers import Dense, Conv2D , MaxPool2D , Flatten , Dropout \n",
        "from keras.preprocessing.image import ImageDataGenerator\n",
        "from keras.optimizers import Adam\n",
        "\n",
        "from sklearn.metrics import classification_report,confusion_matrix\n",
        "\n",
        "import tensorflow as tf\n",
        "\n",
        "import os\n",
        "import cv2\n",
        "\n",
        "import numpy as np\n",
        "from sklearn.model_selection import train_test_split\n",
        "from keras.applications.vgg16 import VGG16\n",
        "from keras.models import Model"
      ],
      "id": "8857823f"
    },
    {
      "cell_type": "code",
      "execution_count": 1,
      "metadata": {
        "colab": {
          "base_uri": "https://localhost:8080/"
        },
        "id": "tL79hdkZP61D",
        "outputId": "8e7a2e8a-1881-46dc-9362-c55f6ca9c7d7"
      },
      "outputs": [
        {
          "output_type": "stream",
          "name": "stdout",
          "text": [
            "Mounted at /content/drive\n"
          ]
        }
      ],
      "source": [
        "from google.colab import drive\n",
        "drive.mount('/content/drive')"
      ],
      "id": "tL79hdkZP61D"
    },
    {
      "cell_type": "code",
      "execution_count": 3,
      "metadata": {
        "id": "b19a51c8"
      },
      "outputs": [],
      "source": [
        "labels = ['Normal', 'Potholes']\n",
        "img_size = 224\n",
        "def get_data(data_dir):\n",
        "    data = [] \n",
        "    for label in labels: \n",
        "        path = os.path.join(data_dir, label)\n",
        "        class_num = labels.index(label)\n",
        "        for img in os.listdir(path):\n",
        "            try:\n",
        "                img_arr = cv2.imread(os.path.join(path, img))[...,::-1] #convert BGR to RGB format\n",
        "                resized_arr = cv2.resize(img_arr, (img_size, img_size)) # Reshaping images to preferred size\n",
        "                data.append([resized_arr, class_num])\n",
        "            except Exception as e:\n",
        "                print(e)\n",
        "    return np.array(data)"
      ],
      "id": "b19a51c8"
    },
    {
      "cell_type": "code",
      "execution_count": 4,
      "metadata": {
        "colab": {
          "base_uri": "https://localhost:8080/"
        },
        "id": "01eeaa40",
        "outputId": "aa8d745c-2838-4eac-d81b-167934a4c604"
      },
      "outputs": [
        {
          "output_type": "stream",
          "name": "stdout",
          "text": [
            "'NoneType' object is not subscriptable\n",
            "'NoneType' object is not subscriptable\n",
            "'NoneType' object is not subscriptable\n",
            "'NoneType' object is not subscriptable\n"
          ]
        },
        {
          "output_type": "stream",
          "name": "stderr",
          "text": [
            "<ipython-input-3-4fc451c4081d>:15: VisibleDeprecationWarning: Creating an ndarray from ragged nested sequences (which is a list-or-tuple of lists-or-tuples-or ndarrays with different lengths or shapes) is deprecated. If you meant to do this, you must specify 'dtype=object' when creating the ndarray.\n",
            "  return np.array(data)\n"
          ]
        }
      ],
      "source": [
        "data = get_data('drive/MyDrive/Dataset')"
      ],
      "id": "01eeaa40"
    },
    {
      "cell_type": "code",
      "source": [
        "data_t = []\n",
        "data_l = []\n",
        "for feature, label in data:\n",
        "  data_t.append(feature)\n",
        "  data_l.append(label)\n",
        "\n",
        "\n",
        "X_new = np.array(data_t)\n",
        "y_new = np.array(data_l)"
      ],
      "metadata": {
        "id": "WiCIfBO81FAu"
      },
      "id": "WiCIfBO81FAu",
      "execution_count": 5,
      "outputs": []
    },
    {
      "cell_type": "code",
      "source": [
        "x_train, x_val, y_train, y_val = train_test_split(X_new, y_new, test_size=0.40)\n",
        "\n",
        "x_train = np.array(x_train) / 255\n",
        "x_val = np.array(x_val) / 255\n",
        "\n",
        "x_train.reshape(-1, img_size, img_size, 1)\n",
        "y_train = np.array(y_train)\n",
        "\n",
        "x_val.reshape(-1, img_size, img_size, 1)\n",
        "y_val = np.array(y_val)"
      ],
      "metadata": {
        "id": "qAvugDIa149N"
      },
      "id": "qAvugDIa149N",
      "execution_count": 6,
      "outputs": []
    },
    {
      "cell_type": "code",
      "execution_count": 7,
      "metadata": {
        "id": "e01b8b58"
      },
      "outputs": [],
      "source": [
        "datagen = ImageDataGenerator(\n",
        "        featurewise_center=False,  # set input mean to 0 over the dataset\n",
        "        samplewise_center=False,  # set each sample mean to 0\n",
        "        featurewise_std_normalization=False,  # divide inputs by std of the dataset\n",
        "        samplewise_std_normalization=False,  # divide each input by its std\n",
        "        zca_whitening=False,  # apply ZCA whitening\n",
        "        rotation_range = 30,  # randomly rotate images in the range (degrees, 0 to 180)\n",
        "        zoom_range = 0.2, # Randomly zoom image \n",
        "        width_shift_range=0.1,  # randomly shift images horizontally (fraction of total width)\n",
        "        height_shift_range=0.1,  # randomly shift images vertically (fraction of total height)\n",
        "        horizontal_flip = True,  # randomly flip images\n",
        "        vertical_flip=False)  # randomly flip images\n",
        "\n",
        "\n",
        "datagen.fit(x_train)"
      ],
      "id": "e01b8b58"
    },
    {
      "cell_type": "code",
      "execution_count": 8,
      "metadata": {
        "id": "4ff6413e",
        "outputId": "daec81d4-a3eb-4c2e-8895-69088a8d0113",
        "scrolled": true,
        "colab": {
          "base_uri": "https://localhost:8080/"
        }
      },
      "outputs": [
        {
          "output_type": "stream",
          "name": "stdout",
          "text": [
            "Downloading data from https://storage.googleapis.com/tensorflow/keras-applications/vgg16/vgg16_weights_tf_dim_ordering_tf_kernels.h5\n",
            "553467096/553467096 [==============================] - 3s 0us/step\n",
            "Model: \"model\"\n",
            "_________________________________________________________________\n",
            " Layer (type)                Output Shape              Param #   \n",
            "=================================================================\n",
            " input_1 (InputLayer)        [(None, 224, 224, 3)]     0         \n",
            "                                                                 \n",
            " block1_conv1 (Conv2D)       (None, 224, 224, 64)      1792      \n",
            "                                                                 \n",
            " block1_conv2 (Conv2D)       (None, 224, 224, 64)      36928     \n",
            "                                                                 \n",
            " block1_pool (MaxPooling2D)  (None, 112, 112, 64)      0         \n",
            "                                                                 \n",
            " block2_conv1 (Conv2D)       (None, 112, 112, 128)     73856     \n",
            "                                                                 \n",
            " block2_conv2 (Conv2D)       (None, 112, 112, 128)     147584    \n",
            "                                                                 \n",
            " block2_pool (MaxPooling2D)  (None, 56, 56, 128)       0         \n",
            "                                                                 \n",
            " block3_conv1 (Conv2D)       (None, 56, 56, 256)       295168    \n",
            "                                                                 \n",
            " block3_conv2 (Conv2D)       (None, 56, 56, 256)       590080    \n",
            "                                                                 \n",
            " block3_conv3 (Conv2D)       (None, 56, 56, 256)       590080    \n",
            "                                                                 \n",
            " block3_pool (MaxPooling2D)  (None, 28, 28, 256)       0         \n",
            "                                                                 \n",
            " block4_conv1 (Conv2D)       (None, 28, 28, 512)       1180160   \n",
            "                                                                 \n",
            " block4_conv2 (Conv2D)       (None, 28, 28, 512)       2359808   \n",
            "                                                                 \n",
            " block4_conv3 (Conv2D)       (None, 28, 28, 512)       2359808   \n",
            "                                                                 \n",
            " block4_pool (MaxPooling2D)  (None, 14, 14, 512)       0         \n",
            "                                                                 \n",
            " block5_conv1 (Conv2D)       (None, 14, 14, 512)       2359808   \n",
            "                                                                 \n",
            " block5_conv2 (Conv2D)       (None, 14, 14, 512)       2359808   \n",
            "                                                                 \n",
            " block5_conv3 (Conv2D)       (None, 14, 14, 512)       2359808   \n",
            "                                                                 \n",
            " block5_pool (MaxPooling2D)  (None, 7, 7, 512)         0         \n",
            "                                                                 \n",
            " flatten (Flatten)           (None, 25088)             0         \n",
            "                                                                 \n",
            " fc1 (Dense)                 (None, 4096)              102764544 \n",
            "                                                                 \n",
            " fc2 (Dense)                 (None, 4096)              16781312  \n",
            "                                                                 \n",
            " dense (Dense)               (None, 2)                 8194      \n",
            "                                                                 \n",
            "=================================================================\n",
            "Total params: 134,268,738\n",
            "Trainable params: 133,713,410\n",
            "Non-trainable params: 555,328\n",
            "_________________________________________________________________\n"
          ]
        },
        {
          "output_type": "stream",
          "name": "stderr",
          "text": [
            "/usr/local/lib/python3.8/dist-packages/keras/optimizers/optimizer_v2/adam.py:117: UserWarning: The `lr` argument is deprecated, use `learning_rate` instead.\n",
            "  super().__init__(name, **kwargs)\n"
          ]
        }
      ],
      "source": [
        "vggmodel = VGG16()\n",
        "\n",
        "# freeze the first 15 layers of the VGG16 model\n",
        "for layer in (vggmodel.layers)[:8]:\n",
        "    layer.trainable = False\n",
        "\n",
        "# remove the last output layer and add a new output layer\n",
        "X = vggmodel.layers[-2].output\n",
        "predictions = Dense(2, activation=\"softmax\")(X)\n",
        "\n",
        "# define the final model\n",
        "model_final = Model(inputs=vggmodel.input, outputs=predictions)\n",
        "\n",
        "# compile the model\n",
        "opt = Adam(lr=0.0001)\n",
        "model_final.compile(loss=keras.losses.categorical_crossentropy, optimizer=opt, metrics=[\"accuracy\"])\n",
        "\n",
        "# print the model summary\n",
        "model_final.summary()"
      ],
      "id": "4ff6413e"
    },
    {
      "cell_type": "code",
      "execution_count": 9,
      "metadata": {
        "id": "9110e180"
      },
      "outputs": [],
      "source": [
        "opt = Adam(lr=0.000001)\n",
        "model_final.compile(optimizer = opt , loss = tf.keras.losses.SparseCategoricalCrossentropy(from_logits=True) , metrics = ['accuracy'])"
      ],
      "id": "9110e180"
    },
    {
      "cell_type": "code",
      "execution_count": 10,
      "metadata": {
        "id": "658bd971"
      },
      "outputs": [],
      "source": [
        "from keras.callbacks import Callback, EarlyStopping, ReduceLROnPlateau, ModelCheckpoint"
      ],
      "id": "658bd971"
    },
    {
      "cell_type": "code",
      "execution_count": 11,
      "metadata": {
        "id": "05ef2ef5"
      },
      "outputs": [],
      "source": [
        "model_file = 'model/weights.{epoch:02d}-{val_accuracy:.2f}.hdf5'\n",
        "\n",
        "#maximizing val_accuracy, store only the best models  \n",
        "checkpoint = ModelCheckpoint(model_file, monitor='val_accuracy', verbose=1, save_best_only=True, save_weights_only=False, mode='auto', save_freq=\"epoch\")\n",
        "\n",
        "#If after 3 epochs the val_accuracy does not improve just stop \n",
        "early = EarlyStopping(monitor='val_accuracy', min_delta=0, patience=3, verbose=1, mode='auto')"
      ],
      "id": "05ef2ef5"
    },
    {
      "cell_type": "code",
      "execution_count": 12,
      "metadata": {
        "id": "cba4fb0f",
        "outputId": "5fd7d1c6-f1ba-4a19-eca0-3e409b81d988",
        "colab": {
          "base_uri": "https://localhost:8080/"
        }
      },
      "outputs": [
        {
          "output_type": "stream",
          "name": "stdout",
          "text": [
            "Epoch 1/500\n"
          ]
        },
        {
          "output_type": "stream",
          "name": "stderr",
          "text": [
            "/usr/local/lib/python3.8/dist-packages/keras/backend.py:5585: UserWarning: \"`sparse_categorical_crossentropy` received `from_logits=True`, but the `output` argument was produced by a Softmax activation and thus does not represent logits. Was this intended?\n",
            "  output, from_logits = _get_logits(\n"
          ]
        },
        {
          "output_type": "stream",
          "name": "stdout",
          "text": [
            "\n",
            "Epoch 1: val_accuracy improved from -inf to 0.98210, saving model to model/weights.01-0.98.hdf5\n",
            "42/42 - 19s - loss: 0.6198 - accuracy: 0.7259 - val_loss: 0.2801 - val_accuracy: 0.9821 - 19s/epoch - 459ms/step\n",
            "Epoch 2/500\n",
            "\n",
            "Epoch 2: val_accuracy improved from 0.98210 to 0.99553, saving model to model/weights.02-1.00.hdf5\n",
            "42/42 - 5s - loss: 0.1463 - accuracy: 0.9895 - val_loss: 0.0713 - val_accuracy: 0.9955 - 5s/epoch - 122ms/step\n",
            "Epoch 3/500\n",
            "\n",
            "Epoch 3: val_accuracy improved from 0.99553 to 0.99664, saving model to model/weights.03-1.00.hdf5\n",
            "42/42 - 6s - loss: 0.0436 - accuracy: 0.9955 - val_loss: 0.0290 - val_accuracy: 0.9966 - 6s/epoch - 132ms/step\n",
            "Epoch 4/500\n",
            "\n",
            "Epoch 4: val_accuracy improved from 0.99664 to 0.99776, saving model to model/weights.04-1.00.hdf5\n",
            "42/42 - 5s - loss: 0.0203 - accuracy: 0.9970 - val_loss: 0.0165 - val_accuracy: 0.9978 - 5s/epoch - 109ms/step\n",
            "Epoch 5/500\n",
            "\n",
            "Epoch 5: val_accuracy did not improve from 0.99776\n",
            "42/42 - 2s - loss: 0.0123 - accuracy: 0.9985 - val_loss: 0.0106 - val_accuracy: 0.9978 - 2s/epoch - 53ms/step\n",
            "Epoch 6/500\n",
            "\n",
            "Epoch 6: val_accuracy improved from 0.99776 to 0.99888, saving model to model/weights.06-1.00.hdf5\n",
            "42/42 - 5s - loss: 0.0079 - accuracy: 0.9985 - val_loss: 0.0075 - val_accuracy: 0.9989 - 5s/epoch - 112ms/step\n",
            "Epoch 7/500\n",
            "\n",
            "Epoch 7: val_accuracy did not improve from 0.99888\n",
            "42/42 - 2s - loss: 0.0057 - accuracy: 0.9993 - val_loss: 0.0059 - val_accuracy: 0.9989 - 2s/epoch - 54ms/step\n",
            "Epoch 8/500\n",
            "\n",
            "Epoch 8: val_accuracy did not improve from 0.99888\n",
            "42/42 - 2s - loss: 0.0043 - accuracy: 0.9993 - val_loss: 0.0044 - val_accuracy: 0.9989 - 2s/epoch - 52ms/step\n",
            "Epoch 9/500\n",
            "\n",
            "Epoch 9: val_accuracy did not improve from 0.99888\n",
            "42/42 - 2s - loss: 0.0030 - accuracy: 0.9993 - val_loss: 0.0037 - val_accuracy: 0.9989 - 2s/epoch - 52ms/step\n",
            "Epoch 9: early stopping\n"
          ]
        }
      ],
      "source": [
        "history = model_final.fit(x_train,y_train,epochs = 500,batch_size = 32, validation_data = (x_val, y_val), verbose = 2,shuffle = True,callbacks = [checkpoint,early])"
      ],
      "id": "cba4fb0f"
    },
    {
      "cell_type": "code",
      "execution_count": 13,
      "metadata": {
        "id": "f41a6804",
        "outputId": "803932b3-6f47-40c1-d5aa-8695316fd9c2",
        "colab": {
          "base_uri": "https://localhost:8080/",
          "height": 435
        }
      },
      "outputs": [
        {
          "output_type": "display_data",
          "data": {
            "text/plain": [
              "<Figure size 1080x1080 with 2 Axes>"
            ],
            "image/png": "[encoded data removed]"
          },
          "metadata": {
            "needs_background": "light"
          }
        }
      ],
      "source": [
        "acc = history.history['accuracy']\n",
        "val_acc = history.history['val_accuracy']\n",
        "loss = history.history['loss']\n",
        "val_loss = history.history['val_loss']\n",
        "\n",
        "epochs_range = range(9)\n",
        "\n",
        "plt.figure(figsize=(15, 15))\n",
        "plt.subplot(2, 2, 1)\n",
        "plt.plot(epochs_range, acc, label='Training Accuracy')\n",
        "plt.plot(epochs_range, val_acc, label='Validation Accuracy')\n",
        "plt.legend(loc='lower right')\n",
        "plt.title('Training and Validation Accuracy')\n",
        "\n",
        "plt.subplot(2, 2, 2)\n",
        "plt.plot(epochs_range, loss, label='Training Loss')\n",
        "plt.plot(epochs_range, val_loss, label='Validation Loss')\n",
        "plt.legend(loc='upper right')\n",
        "plt.title('Training and Validation Loss')\n",
        "plt.show()"
      ],
      "id": "f41a6804"
    },
    {
      "cell_type": "code",
      "execution_count": 14,
      "metadata": {
        "id": "4d53afaf",
        "outputId": "1fce98d1-cc02-4728-af51-db276162ec30",
        "colab": {
          "base_uri": "https://localhost:8080/"
        }
      },
      "outputs": [
        {
          "output_type": "stream",
          "name": "stdout",
          "text": [
            "28/28 [==============================] - 1s 20ms/step\n"
          ]
        }
      ],
      "source": [
        "y_pred=model_final.predict(x_val)\n",
        "y_pred=np.argmax(y_pred,axis=1)"
      ],
      "id": "4d53afaf"
    },
    {
      "cell_type": "code",
      "execution_count": 15,
      "metadata": {
        "id": "0cbabe01",
        "outputId": "2e6614c1-5a0c-4298-8068-9f8de8aaa456",
        "colab": {
          "base_uri": "https://localhost:8080/"
        }
      },
      "outputs": [
        {
          "output_type": "stream",
          "name": "stdout",
          "text": [
            "              precision    recall  f1-score   support\n",
            "\n",
            "           0       1.00      1.00      1.00       438\n",
            "           1       1.00      1.00      1.00       456\n",
            "\n",
            "    accuracy                           1.00       894\n",
            "   macro avg       1.00      1.00      1.00       894\n",
            "weighted avg       1.00      1.00      1.00       894\n",
            "\n"
          ]
        }
      ],
      "source": [
        "print(classification_report(y_pred,y_val))"
      ],
      "id": "0cbabe01"
    },
    {
      "cell_type": "code",
      "execution_count": 16,
      "metadata": {
        "id": "d18f2719",
        "outputId": "db11e4a7-7366-4294-c5c6-e4841a01bed6",
        "colab": {
          "base_uri": "https://localhost:8080/"
        }
      },
      "outputs": [
        {
          "output_type": "stream",
          "name": "stdout",
          "text": [
            "[[437   1]\n",
            " [  0 456]]\n"
          ]
        }
      ],
      "source": [
        "print(confusion_matrix(y_pred,y_val))"
      ],
      "id": "d18f2719"
    },
    {
      "cell_type": "code",
      "execution_count": 17,
      "metadata": {
        "id": "38d36957"
      },
      "outputs": [],
      "source": [
        "def performance_measure(y_actual, y_hat):\n",
        "    TP = 0\n",
        "    FP = 0\n",
        "    TN = 0\n",
        "    FN = 0\n",
        "\n",
        "    for i in range(len(y_hat)): \n",
        "        if y_actual[i] == y_hat[i]==1:\n",
        "            TP += 1\n",
        "        if y_hat[i] == 1 and y_actual[i] == 0:\n",
        "            FP += 1\n",
        "        if y_hat[i] == y_actual[i] == 0:\n",
        "            TN +=1\n",
        "        if y_hat[i] == 0 and y_actual[i] == 1:\n",
        "            FN +=1\n",
        "\n",
        "    return(TP, FP, TN, FN)"
      ],
      "id": "38d36957"
    },
    {
      "cell_type": "code",
      "execution_count": 18,
      "metadata": {
        "id": "c607625e"
      },
      "outputs": [],
      "source": [
        "TP, FP, TN, FN = performance_measure(y_val,y_pred)"
      ],
      "id": "c607625e"
    },
    {
      "cell_type": "code",
      "execution_count": 19,
      "metadata": {
        "id": "db337548",
        "outputId": "d43aea75-c908-4b2b-cb0d-1b7449ff96d6",
        "colab": {
          "base_uri": "https://localhost:8080/"
        }
      },
      "outputs": [
        {
          "output_type": "stream",
          "name": "stdout",
          "text": [
            "0.9978118161925602 1.0 1.0 0.997716894977169 0.0 0.002188183807439825 0.0 0.9988814317673378\n"
          ]
        }
      ],
      "source": [
        "# Sensitivity, hit rate, recall, or true positive rate\n",
        "TPR = TP/(TP+FN)\n",
        "# Specificity or true negative rate\n",
        "TNR = TN/(TN+FP) \n",
        "# Precision or positive predictive value\n",
        "PPV = TP/(TP+FP)\n",
        "# Negative predictive value\n",
        "NPV = TN/(TN+FN)\n",
        "# Fall out or false positive rate\n",
        "FPR = FP/(FP+TN)\n",
        "# False negative rate\n",
        "FNR = FN/(TP+FN)\n",
        "# False discovery rate\n",
        "FDR = FP/(TP+FP)\n",
        "\n",
        "# Overall accuracy\n",
        "ACC = (TP+TN)/(TP+FP+FN+TN)\n",
        "\n",
        "print(TPR,TNR,PPV,NPV,FPR,FNR,FDR,ACC)"
      ],
      "id": "db337548"
    },
    {
      "cell_type": "code",
      "execution_count": 20,
      "metadata": {
        "id": "ef5f3eb2"
      },
      "outputs": [],
      "source": [
        "from sklearn.metrics import roc_curve"
      ],
      "id": "ef5f3eb2"
    },
    {
      "cell_type": "code",
      "execution_count": 21,
      "metadata": {
        "id": "35d00a47"
      },
      "outputs": [],
      "source": [
        "fpr, tpr, thresholds = roc_curve(y_val, y_pred)"
      ],
      "id": "35d00a47"
    },
    {
      "cell_type": "code",
      "execution_count": 22,
      "metadata": {
        "id": "b84b28a0"
      },
      "outputs": [],
      "source": [
        "from sklearn.metrics import auc\n",
        "auc = auc(fpr, tpr)"
      ],
      "id": "b84b28a0"
    },
    {
      "cell_type": "code",
      "execution_count": 23,
      "metadata": {
        "id": "08e6f0c6",
        "outputId": "2817a75a-4b94-4514-86f5-725a01a257d8",
        "colab": {
          "base_uri": "https://localhost:8080/",
          "height": 295
        }
      },
      "outputs": [
        {
          "output_type": "display_data",
          "data": {
            "text/plain": [
              "<Figure size 432x288 with 1 Axes>"
            ],
            "image/png": "[encoded data removed]"
          },
          "metadata": {
            "needs_background": "light"
          }
        }
      ],
      "source": [
        "plt.figure(1)\n",
        "plt.plot([0, 1], [0, 1], 'k--')\n",
        "plt.plot(fpr, tpr, label='AUC = {:.3f})'.format(auc))\n",
        "plt.xlabel('False positive rate')\n",
        "plt.ylabel('True positive rate')\n",
        "plt.title('ROC curve')\n",
        "plt.legend(loc='best')\n",
        "plt.show()"
      ],
      "id": "08e6f0c6"
    }
  ],
  "metadata": {
    "accelerator": "GPU",
    "colab": {
      "provenance": [],
      "machine_shape": "hm"
    },
    "gpuClass": "premium",
    "kernelspec": {
      "display_name": "Python 3 (ipykernel)",
      "language": "python",
      "name": "python3"
    },
    "language_info": {
      "codemirror_mode": {
        "name": "ipython",
        "version": 3
      },
      "file_extension": ".py",
      "mimetype": "text/x-python",
      "name": "python",
      "nbconvert_exporter": "python",
      "pygments_lexer": "ipython3",
      "version": "3.8.8"
    }
  },
  "nbformat": 4,
  "nbformat_minor": 5
}